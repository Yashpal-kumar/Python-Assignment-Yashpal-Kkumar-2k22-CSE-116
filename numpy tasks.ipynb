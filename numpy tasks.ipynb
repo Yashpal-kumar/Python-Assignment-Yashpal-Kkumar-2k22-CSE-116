{
 "cells": [
  {
   "cell_type": "code",
   "execution_count": 1,
   "id": "7df7559e-4eaa-4866-ab28-976afda2a1f3",
   "metadata": {},
   "outputs": [],
   "source": [
    "import numpy as np"
   ]
  },
  {
   "cell_type": "code",
   "execution_count": 3,
   "id": "648d359c-bfb2-48fc-95fa-053372a51d77",
   "metadata": {},
   "outputs": [],
   "source": [
    "data1 = {5,6,7,8,0,1}"
   ]
  },
  {
   "cell_type": "code",
   "execution_count": 4,
   "id": "a2f697e6-e26c-475d-801a-12d0da446d59",
   "metadata": {},
   "outputs": [],
   "source": [
    "arr1 = np.array(data1)"
   ]
  },
  {
   "cell_type": "code",
   "execution_count": 5,
   "id": "c28b1203-6484-4b72-a85d-1b43c6b961e4",
   "metadata": {},
   "outputs": [
    {
     "name": "stdout",
     "output_type": "stream",
     "text": [
      "{0, 1, 5, 6, 7, 8}\n"
     ]
    }
   ],
   "source": [
    "print (arr1)"
   ]
  },
  {
   "cell_type": "code",
   "execution_count": 6,
   "id": "fa42bc40-c1b0-4044-a360-7c61d652f036",
   "metadata": {},
   "outputs": [
    {
     "name": "stdout",
     "output_type": "stream",
     "text": [
      "object\n"
     ]
    }
   ],
   "source": [
    "print (arr1.dtype)"
   ]
  },
  {
   "cell_type": "code",
   "execution_count": 7,
   "id": "95ffee5b-3ecc-4de6-91cd-35cb37144f2c",
   "metadata": {},
   "outputs": [
    {
     "name": "stdout",
     "output_type": "stream",
     "text": [
      "()\n"
     ]
    }
   ],
   "source": [
    "print (arr1.shape)"
   ]
  },
  {
   "cell_type": "code",
   "execution_count": 8,
   "id": "3bd8b5a0-173c-4222-bf43-b05479d25ed1",
   "metadata": {},
   "outputs": [
    {
     "name": "stdout",
     "output_type": "stream",
     "text": [
      "0\n"
     ]
    }
   ],
   "source": [
    "print (arr1.ndim)"
   ]
  },
  {
   "cell_type": "code",
   "execution_count": null,
   "id": "0c629c32-aeba-4b26-ad4d-e55fee9cdd9f",
   "metadata": {},
   "outputs": [],
   "source": []
  }
 ],
 "metadata": {
  "kernelspec": {
   "display_name": "Python 3 (ipykernel)",
   "language": "python",
   "name": "python3"
  },
  "language_info": {
   "codemirror_mode": {
    "name": "ipython",
    "version": 3
   },
   "file_extension": ".py",
   "mimetype": "text/x-python",
   "name": "python",
   "nbconvert_exporter": "python",
   "pygments_lexer": "ipython3",
   "version": "3.12.3"
  }
 },
 "nbformat": 4,
 "nbformat_minor": 5
}
